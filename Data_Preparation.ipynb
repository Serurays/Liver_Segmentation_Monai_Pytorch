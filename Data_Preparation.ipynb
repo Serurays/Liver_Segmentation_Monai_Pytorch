{
 "cells": [
  {
   "cell_type": "markdown",
   "id": "7301da08-0f43-4234-a86e-b9615581e147",
   "metadata": {},
   "source": [
    "# Create Groups of 65 Images"
   ]
  },
  {
   "cell_type": "code",
   "execution_count": 5,
   "id": "a5ac1efb-58e4-4b99-8071-18c8180264cc",
   "metadata": {},
   "outputs": [],
   "source": [
    "in_path = "",
    "out_path = ""
   ]
  },
  {
   "cell_type": "code",
   "execution_count": 49,
   "id": "6b0cb16b-7f41-45e6-baec-cfd863eb75e9",
   "metadata": {},
   "outputs": [],
   "source": [
    "from glob import glob\n",
    "import shutil\n",
    "import os\n",
    "import dicom2nifti\n",
    "import nibabel as nib\n",
    "import numpy as np"
   ]
  },
  {
   "cell_type": "code",
   "execution_count": 31,
   "id": "a0d25e4e-c5e1-4b3a-a320-4e198a9751ae",
   "metadata": {},
   "outputs": [],
   "source": [
    "for patient in glob(in_path + \"/*\"):\n",
    "    patient_name = os.path.basename(os.path.normpath(patient))\n",
    "    number_folders = int(len(glob(patient + \"/*\")) / 64)\n",
    "\n",
    "    for i in range(number_folders):\n",
    "        output_path_name = os.path.join(out_path, patient_name + \"_\" + str(i))\n",
    "        os.mkdir(output_path_name)\n",
    "\n",
    "        for i, file in enumerate(glob(patient + \"/*\")):\n",
    "            if i == 64 + 1:\n",
    "                break\n",
    "\n",
    "            shutil.move(file, output_path_name)"
   ]
  },
  {
   "cell_type": "code",
   "execution_count": 32,
   "id": "61e7ec4d-1324-48f1-a48b-f781f0d03b91",
   "metadata": {},
   "outputs": [],
   "source": [
    "in_path = "",
    "out_path = ""
   ]
  },
  {
   "cell_type": "code",
   "execution_count": 33,
   "id": "9732244d-2336-42af-af76-088e2d18dcd6",
   "metadata": {},
   "outputs": [],
   "source": [
    "for patient in glob(in_path + \"/*\"):\n",
    "    patient_name = os.path.basename(os.path.normpath(patient))\n",
    "    number_folders = int(len(glob(patient + \"/*\")) / 64)\n",
    "\n",
    "    for i in range(number_folders):\n",
    "        output_path_name = os.path.join(out_path, patient_name + \"_\" + str(i))\n",
    "        os.mkdir(output_path_name)\n",
    "\n",
    "        for i, file in enumerate(glob(patient + \"/*\")):\n",
    "            if i == 64 + 1:\n",
    "                break\n",
    "\n",
    "            shutil.move(file, output_path_name)"
   ]
  },
  {
   "cell_type": "markdown",
   "id": "541e1294-33e0-4ff6-bd80-5df0f00c8500",
   "metadata": {},
   "source": [
    "---"
   ]
  },
  {
   "cell_type": "markdown",
   "id": "b8926856-62ed-411f-8bf6-3fc648c7a926",
   "metadata": {},
   "source": [
    "# Convert Dicom Files to Nifties"
   ]
  },
  {
   "cell_type": "code",
   "execution_count": 42,
   "id": "faeba58c-5ff1-4294-b15b-64fb734a6edd",
   "metadata": {},
   "outputs": [],
   "source": [
    "in_path_images =  "",
    "in_path_labels =  "",
    "out_path_images = "",
    "out_path_labels = "",
    "\n",
    "list_images = glob(in_path_images)\n",
    "list_labels = glob(in_path_labels)"
   ]
  },
  {
   "cell_type": "code",
   "execution_count": 43,
   "id": "fb2be3bb-276e-4dc4-abdd-4090bf9d7423",
   "metadata": {},
   "outputs": [],
   "source": [
    "for patient in list_images:\n",
    "    patient_name = os.path.basename(os.path.normpath(patient))\n",
    "    dicom2nifti.dicom_series_to_nifti(patient, os.path.join(out_path_images, patient_name + \".nii.gz\"))"
   ]
  },
  {
   "cell_type": "code",
   "execution_count": 45,
   "id": "12d7ce8a-daa6-4a57-980e-183f2627c222",
   "metadata": {},
   "outputs": [],
   "source": [
    "for patient in list_labels:\n",
    "    patient_name = os.path.basename(os.path.normpath(patient))\n",
    "    dicom2nifti.dicom_series_to_nifti(patient, os.path.join(out_path_labels, patient_name + \".nii.gz\"))"
   ]
  },
  {
   "cell_type": "markdown",
   "id": "18a2237f-4719-4a92-baf5-11d8948f9e37",
   "metadata": {},
   "source": [
    "---"
   ]
  },
  {
   "cell_type": "markdown",
   "id": "94ff2203-ad72-45cb-88f7-076edc2e3815",
   "metadata": {},
   "source": [
    "# Find Empty"
   ]
  },
  {
   "cell_type": "markdown",
   "id": "f19ef16c-76d6-4769-bc9d-e53756ffbb19",
   "metadata": {},
   "source": [
    "##### Some slices don't have labels, and they are useless, these cound as empty."
   ]
  },
  {
   "cell_type": "code",
   "execution_count": 53,
   "id": "ceb72464-7a8c-410a-b5e7-50aae43290c8",
   "metadata": {},
   "outputs": [
    {
     "name": "stdout",
     "output_type": "stream",
     "text": [
     ]
    }
   ],
   "source": [
    "input_file_path = r\"C:\\Users\\MSI\\Desktop\\Medical_CT_Liver\\Task03_Liver\\nifti_files\\labels\\*\"\n",
    "list_labels = glob(input_file_path)\n",
    "\n",
    "for patient in list_labels:\n",
    "    nifti_file = nib.load(patient)\n",
    "    f_data = nifti_file.get_fdata()\n",
    "    unique_pixels = np.unique(f_data)\n",
    "    print(unique_pixels)\n",
    "\n",
    "    if len(unique_pixels) == 1:\n",
    "        # no label\n",
    "        print(patient)"
   ]
  },
  {
   "cell_type": "code",
   "execution_count": null,
   "id": "7727ceb3-68a4-458d-8cb7-1e24fc9c4abb",
   "metadata": {},
   "outputs": [],
   "source": []
  }
 ],
 "metadata": {
  "kernelspec": {
   "display_name": "Python 3 (ipykernel)",
   "language": "python",
   "name": "python3"
  },
  "language_info": {
   "codemirror_mode": {
    "name": "ipython",
    "version": 3
   },
   "file_extension": ".py",
   "mimetype": "text/x-python",
   "name": "python",
   "nbconvert_exporter": "python",
   "pygments_lexer": "ipython3",
   "version": "3.8.18"
  }
 },
 "nbformat": 4,
 "nbformat_minor": 5
}
